{
 "cells": [
  {
   "cell_type": "code",
   "execution_count": 2,
   "id": "7439a17d",
   "metadata": {},
   "outputs": [],
   "source": [
    "import pandas as pd\n",
    "import numpy as np\n",
    "import seaborn as sns\n",
    "import matplotlib.pyplot as plt\n",
    "%matplotlib inline"
   ]
  },
  {
   "cell_type": "code",
   "execution_count": 3,
   "id": "148397bf",
   "metadata": {},
   "outputs": [],
   "source": [
    "df_covid = pd.read_csv('covid19_italy_region.csv')"
   ]
  },
  {
   "cell_type": "code",
   "execution_count": 4,
   "id": "40ab73c0",
   "metadata": {},
   "outputs": [
    {
     "data": {
      "text/html": [
       "<div>\n",
       "<style scoped>\n",
       "    .dataframe tbody tr th:only-of-type {\n",
       "        vertical-align: middle;\n",
       "    }\n",
       "\n",
       "    .dataframe tbody tr th {\n",
       "        vertical-align: top;\n",
       "    }\n",
       "\n",
       "    .dataframe thead th {\n",
       "        text-align: right;\n",
       "    }\n",
       "</style>\n",
       "<table border=\"1\" class=\"dataframe\">\n",
       "  <thead>\n",
       "    <tr style=\"text-align: right;\">\n",
       "      <th></th>\n",
       "      <th>SNo</th>\n",
       "      <th>Date</th>\n",
       "      <th>Country</th>\n",
       "      <th>RegionCode</th>\n",
       "      <th>RegionName</th>\n",
       "      <th>Latitude</th>\n",
       "      <th>Longitude</th>\n",
       "      <th>HospitalizedPatients</th>\n",
       "      <th>IntensiveCarePatients</th>\n",
       "      <th>TotalHospitalizedPatients</th>\n",
       "      <th>HomeConfinement</th>\n",
       "      <th>CurrentPositiveCases</th>\n",
       "      <th>NewPositiveCases</th>\n",
       "      <th>Recovered</th>\n",
       "      <th>Deaths</th>\n",
       "      <th>TotalPositiveCases</th>\n",
       "      <th>TestsPerformed</th>\n",
       "    </tr>\n",
       "  </thead>\n",
       "  <tbody>\n",
       "    <tr>\n",
       "      <th>0</th>\n",
       "      <td>0</td>\n",
       "      <td>2020-02-24T18:00:00</td>\n",
       "      <td>ITA</td>\n",
       "      <td>13</td>\n",
       "      <td>Abruzzo</td>\n",
       "      <td>42.351222</td>\n",
       "      <td>13.398438</td>\n",
       "      <td>0</td>\n",
       "      <td>0</td>\n",
       "      <td>0</td>\n",
       "      <td>0</td>\n",
       "      <td>0</td>\n",
       "      <td>0</td>\n",
       "      <td>0</td>\n",
       "      <td>0</td>\n",
       "      <td>0</td>\n",
       "      <td>NaN</td>\n",
       "    </tr>\n",
       "    <tr>\n",
       "      <th>1</th>\n",
       "      <td>1</td>\n",
       "      <td>2020-02-24T18:00:00</td>\n",
       "      <td>ITA</td>\n",
       "      <td>17</td>\n",
       "      <td>Basilicata</td>\n",
       "      <td>40.639471</td>\n",
       "      <td>15.805148</td>\n",
       "      <td>0</td>\n",
       "      <td>0</td>\n",
       "      <td>0</td>\n",
       "      <td>0</td>\n",
       "      <td>0</td>\n",
       "      <td>0</td>\n",
       "      <td>0</td>\n",
       "      <td>0</td>\n",
       "      <td>0</td>\n",
       "      <td>NaN</td>\n",
       "    </tr>\n",
       "    <tr>\n",
       "      <th>2</th>\n",
       "      <td>2</td>\n",
       "      <td>2020-02-24T18:00:00</td>\n",
       "      <td>ITA</td>\n",
       "      <td>18</td>\n",
       "      <td>Calabria</td>\n",
       "      <td>38.905976</td>\n",
       "      <td>16.594402</td>\n",
       "      <td>0</td>\n",
       "      <td>0</td>\n",
       "      <td>0</td>\n",
       "      <td>0</td>\n",
       "      <td>0</td>\n",
       "      <td>0</td>\n",
       "      <td>0</td>\n",
       "      <td>0</td>\n",
       "      <td>0</td>\n",
       "      <td>NaN</td>\n",
       "    </tr>\n",
       "    <tr>\n",
       "      <th>3</th>\n",
       "      <td>3</td>\n",
       "      <td>2020-02-24T18:00:00</td>\n",
       "      <td>ITA</td>\n",
       "      <td>15</td>\n",
       "      <td>Campania</td>\n",
       "      <td>40.839566</td>\n",
       "      <td>14.250850</td>\n",
       "      <td>0</td>\n",
       "      <td>0</td>\n",
       "      <td>0</td>\n",
       "      <td>0</td>\n",
       "      <td>0</td>\n",
       "      <td>0</td>\n",
       "      <td>0</td>\n",
       "      <td>0</td>\n",
       "      <td>0</td>\n",
       "      <td>NaN</td>\n",
       "    </tr>\n",
       "    <tr>\n",
       "      <th>4</th>\n",
       "      <td>4</td>\n",
       "      <td>2020-02-24T18:00:00</td>\n",
       "      <td>ITA</td>\n",
       "      <td>8</td>\n",
       "      <td>Emilia-Romagna</td>\n",
       "      <td>44.494367</td>\n",
       "      <td>11.341721</td>\n",
       "      <td>10</td>\n",
       "      <td>2</td>\n",
       "      <td>12</td>\n",
       "      <td>6</td>\n",
       "      <td>18</td>\n",
       "      <td>18</td>\n",
       "      <td>0</td>\n",
       "      <td>0</td>\n",
       "      <td>18</td>\n",
       "      <td>NaN</td>\n",
       "    </tr>\n",
       "  </tbody>\n",
       "</table>\n",
       "</div>"
      ],
      "text/plain": [
       "   SNo                 Date Country  RegionCode      RegionName   Latitude  \\\n",
       "0    0  2020-02-24T18:00:00     ITA          13         Abruzzo  42.351222   \n",
       "1    1  2020-02-24T18:00:00     ITA          17      Basilicata  40.639471   \n",
       "2    2  2020-02-24T18:00:00     ITA          18        Calabria  38.905976   \n",
       "3    3  2020-02-24T18:00:00     ITA          15        Campania  40.839566   \n",
       "4    4  2020-02-24T18:00:00     ITA           8  Emilia-Romagna  44.494367   \n",
       "\n",
       "   Longitude  HospitalizedPatients  IntensiveCarePatients  \\\n",
       "0  13.398438                     0                      0   \n",
       "1  15.805148                     0                      0   \n",
       "2  16.594402                     0                      0   \n",
       "3  14.250850                     0                      0   \n",
       "4  11.341721                    10                      2   \n",
       "\n",
       "   TotalHospitalizedPatients  HomeConfinement  CurrentPositiveCases  \\\n",
       "0                          0                0                     0   \n",
       "1                          0                0                     0   \n",
       "2                          0                0                     0   \n",
       "3                          0                0                     0   \n",
       "4                         12                6                    18   \n",
       "\n",
       "   NewPositiveCases  Recovered  Deaths  TotalPositiveCases  TestsPerformed  \n",
       "0                 0          0       0                   0             NaN  \n",
       "1                 0          0       0                   0             NaN  \n",
       "2                 0          0       0                   0             NaN  \n",
       "3                 0          0       0                   0             NaN  \n",
       "4                18          0       0                  18             NaN  "
      ]
     },
     "execution_count": 4,
     "metadata": {},
     "output_type": "execute_result"
    }
   ],
   "source": [
    "df_covid.head()"
   ]
  },
  {
   "cell_type": "code",
   "execution_count": 5,
   "id": "677c274d",
   "metadata": {},
   "outputs": [
    {
     "data": {
      "text/html": [
       "<div>\n",
       "<style scoped>\n",
       "    .dataframe tbody tr th:only-of-type {\n",
       "        vertical-align: middle;\n",
       "    }\n",
       "\n",
       "    .dataframe tbody tr th {\n",
       "        vertical-align: top;\n",
       "    }\n",
       "\n",
       "    .dataframe thead th {\n",
       "        text-align: right;\n",
       "    }\n",
       "</style>\n",
       "<table border=\"1\" class=\"dataframe\">\n",
       "  <thead>\n",
       "    <tr style=\"text-align: right;\">\n",
       "      <th></th>\n",
       "      <th>SNo</th>\n",
       "      <th>RegionCode</th>\n",
       "      <th>Latitude</th>\n",
       "      <th>Longitude</th>\n",
       "      <th>HospitalizedPatients</th>\n",
       "      <th>IntensiveCarePatients</th>\n",
       "      <th>TotalHospitalizedPatients</th>\n",
       "      <th>HomeConfinement</th>\n",
       "      <th>CurrentPositiveCases</th>\n",
       "      <th>NewPositiveCases</th>\n",
       "      <th>Recovered</th>\n",
       "      <th>Deaths</th>\n",
       "      <th>TotalPositiveCases</th>\n",
       "      <th>TestsPerformed</th>\n",
       "    </tr>\n",
       "  </thead>\n",
       "  <tbody>\n",
       "    <tr>\n",
       "      <th>count</th>\n",
       "      <td>6027.000000</td>\n",
       "      <td>6027.000000</td>\n",
       "      <td>6027.000000</td>\n",
       "      <td>6027.000000</td>\n",
       "      <td>6027.000000</td>\n",
       "      <td>6027.000000</td>\n",
       "      <td>6027.000000</td>\n",
       "      <td>6027.000000</td>\n",
       "      <td>6027.000000</td>\n",
       "      <td>6027.000000</td>\n",
       "      <td>6027.000000</td>\n",
       "      <td>6027.000000</td>\n",
       "      <td>6027.00000</td>\n",
       "      <td>4.872000e+03</td>\n",
       "    </tr>\n",
       "    <tr>\n",
       "      <th>mean</th>\n",
       "      <td>3013.000000</td>\n",
       "      <td>11.857143</td>\n",
       "      <td>43.046293</td>\n",
       "      <td>12.225955</td>\n",
       "      <td>509.093579</td>\n",
       "      <td>55.892318</td>\n",
       "      <td>564.985897</td>\n",
       "      <td>5722.911399</td>\n",
       "      <td>6287.897296</td>\n",
       "      <td>286.885847</td>\n",
       "      <td>9337.852829</td>\n",
       "      <td>1474.370665</td>\n",
       "      <td>17100.12361</td>\n",
       "      <td>2.600810e+05</td>\n",
       "    </tr>\n",
       "    <tr>\n",
       "      <th>std</th>\n",
       "      <td>1739.989368</td>\n",
       "      <td>6.274319</td>\n",
       "      <td>2.488987</td>\n",
       "      <td>2.659168</td>\n",
       "      <td>1272.731157</td>\n",
       "      <td>134.957979</td>\n",
       "      <td>1403.362341</td>\n",
       "      <td>15892.768789</td>\n",
       "      <td>16804.884786</td>\n",
       "      <td>818.450458</td>\n",
       "      <td>20551.265039</td>\n",
       "      <td>3365.190225</td>\n",
       "      <td>36934.67627</td>\n",
       "      <td>3.339818e+05</td>\n",
       "    </tr>\n",
       "    <tr>\n",
       "      <th>min</th>\n",
       "      <td>0.000000</td>\n",
       "      <td>1.000000</td>\n",
       "      <td>38.115697</td>\n",
       "      <td>7.320149</td>\n",
       "      <td>0.000000</td>\n",
       "      <td>0.000000</td>\n",
       "      <td>0.000000</td>\n",
       "      <td>0.000000</td>\n",
       "      <td>0.000000</td>\n",
       "      <td>-229.000000</td>\n",
       "      <td>0.000000</td>\n",
       "      <td>0.000000</td>\n",
       "      <td>0.00000</td>\n",
       "      <td>3.482000e+03</td>\n",
       "    </tr>\n",
       "    <tr>\n",
       "      <th>25%</th>\n",
       "      <td>1506.500000</td>\n",
       "      <td>7.000000</td>\n",
       "      <td>41.125596</td>\n",
       "      <td>11.121231</td>\n",
       "      <td>16.000000</td>\n",
       "      <td>1.000000</td>\n",
       "      <td>17.000000</td>\n",
       "      <td>139.000000</td>\n",
       "      <td>168.000000</td>\n",
       "      <td>4.000000</td>\n",
       "      <td>734.000000</td>\n",
       "      <td>98.000000</td>\n",
       "      <td>1383.50000</td>\n",
       "      <td>6.507375e+04</td>\n",
       "    </tr>\n",
       "    <tr>\n",
       "      <th>50%</th>\n",
       "      <td>3013.000000</td>\n",
       "      <td>12.000000</td>\n",
       "      <td>43.616760</td>\n",
       "      <td>12.388247</td>\n",
       "      <td>93.000000</td>\n",
       "      <td>9.000000</td>\n",
       "      <td>106.000000</td>\n",
       "      <td>743.000000</td>\n",
       "      <td>905.000000</td>\n",
       "      <td>31.000000</td>\n",
       "      <td>2840.000000</td>\n",
       "      <td>389.000000</td>\n",
       "      <td>4613.00000</td>\n",
       "      <td>1.365560e+05</td>\n",
       "    </tr>\n",
       "    <tr>\n",
       "      <th>75%</th>\n",
       "      <td>4519.500000</td>\n",
       "      <td>17.000000</td>\n",
       "      <td>45.434905</td>\n",
       "      <td>13.768136</td>\n",
       "      <td>384.500000</td>\n",
       "      <td>46.000000</td>\n",
       "      <td>434.000000</td>\n",
       "      <td>3057.000000</td>\n",
       "      <td>3735.000000</td>\n",
       "      <td>159.500000</td>\n",
       "      <td>8450.500000</td>\n",
       "      <td>1102.500000</td>\n",
       "      <td>15304.00000</td>\n",
       "      <td>3.043542e+05</td>\n",
       "    </tr>\n",
       "    <tr>\n",
       "      <th>max</th>\n",
       "      <td>6026.000000</td>\n",
       "      <td>22.000000</td>\n",
       "      <td>46.499335</td>\n",
       "      <td>16.867367</td>\n",
       "      <td>12077.000000</td>\n",
       "      <td>1381.000000</td>\n",
       "      <td>13328.000000</td>\n",
       "      <td>155066.000000</td>\n",
       "      <td>164406.000000</td>\n",
       "      <td>11489.000000</td>\n",
       "      <td>289706.000000</td>\n",
       "      <td>23024.000000</td>\n",
       "      <td>429109.00000</td>\n",
       "      <td>2.415099e+06</td>\n",
       "    </tr>\n",
       "  </tbody>\n",
       "</table>\n",
       "</div>"
      ],
      "text/plain": [
       "               SNo   RegionCode     Latitude    Longitude  \\\n",
       "count  6027.000000  6027.000000  6027.000000  6027.000000   \n",
       "mean   3013.000000    11.857143    43.046293    12.225955   \n",
       "std    1739.989368     6.274319     2.488987     2.659168   \n",
       "min       0.000000     1.000000    38.115697     7.320149   \n",
       "25%    1506.500000     7.000000    41.125596    11.121231   \n",
       "50%    3013.000000    12.000000    43.616760    12.388247   \n",
       "75%    4519.500000    17.000000    45.434905    13.768136   \n",
       "max    6026.000000    22.000000    46.499335    16.867367   \n",
       "\n",
       "       HospitalizedPatients  IntensiveCarePatients  TotalHospitalizedPatients  \\\n",
       "count           6027.000000            6027.000000                6027.000000   \n",
       "mean             509.093579              55.892318                 564.985897   \n",
       "std             1272.731157             134.957979                1403.362341   \n",
       "min                0.000000               0.000000                   0.000000   \n",
       "25%               16.000000               1.000000                  17.000000   \n",
       "50%               93.000000               9.000000                 106.000000   \n",
       "75%              384.500000              46.000000                 434.000000   \n",
       "max            12077.000000            1381.000000               13328.000000   \n",
       "\n",
       "       HomeConfinement  CurrentPositiveCases  NewPositiveCases      Recovered  \\\n",
       "count      6027.000000           6027.000000       6027.000000    6027.000000   \n",
       "mean       5722.911399           6287.897296        286.885847    9337.852829   \n",
       "std       15892.768789          16804.884786        818.450458   20551.265039   \n",
       "min           0.000000              0.000000       -229.000000       0.000000   \n",
       "25%         139.000000            168.000000          4.000000     734.000000   \n",
       "50%         743.000000            905.000000         31.000000    2840.000000   \n",
       "75%        3057.000000           3735.000000        159.500000    8450.500000   \n",
       "max      155066.000000         164406.000000      11489.000000  289706.000000   \n",
       "\n",
       "             Deaths  TotalPositiveCases  TestsPerformed  \n",
       "count   6027.000000          6027.00000    4.872000e+03  \n",
       "mean    1474.370665         17100.12361    2.600810e+05  \n",
       "std     3365.190225         36934.67627    3.339818e+05  \n",
       "min        0.000000             0.00000    3.482000e+03  \n",
       "25%       98.000000          1383.50000    6.507375e+04  \n",
       "50%      389.000000          4613.00000    1.365560e+05  \n",
       "75%     1102.500000         15304.00000    3.043542e+05  \n",
       "max    23024.000000        429109.00000    2.415099e+06  "
      ]
     },
     "execution_count": 5,
     "metadata": {},
     "output_type": "execute_result"
    }
   ],
   "source": [
    "df_covid.describe()"
   ]
  },
  {
   "cell_type": "markdown",
   "id": "ed51582b",
   "metadata": {},
   "source": [
    "There is a high deviation from the average number of cases. This will be investigated further."
   ]
  },
  {
   "cell_type": "code",
   "execution_count": 6,
   "id": "b3efc797",
   "metadata": {},
   "outputs": [
    {
     "name": "stdout",
     "output_type": "stream",
     "text": [
      "<class 'pandas.core.frame.DataFrame'>\n",
      "RangeIndex: 6027 entries, 0 to 6026\n",
      "Data columns (total 17 columns):\n",
      " #   Column                     Non-Null Count  Dtype  \n",
      "---  ------                     --------------  -----  \n",
      " 0   SNo                        6027 non-null   int64  \n",
      " 1   Date                       6027 non-null   object \n",
      " 2   Country                    6027 non-null   object \n",
      " 3   RegionCode                 6027 non-null   int64  \n",
      " 4   RegionName                 6027 non-null   object \n",
      " 5   Latitude                   6027 non-null   float64\n",
      " 6   Longitude                  6027 non-null   float64\n",
      " 7   HospitalizedPatients       6027 non-null   int64  \n",
      " 8   IntensiveCarePatients      6027 non-null   int64  \n",
      " 9   TotalHospitalizedPatients  6027 non-null   int64  \n",
      " 10  HomeConfinement            6027 non-null   int64  \n",
      " 11  CurrentPositiveCases       6027 non-null   int64  \n",
      " 12  NewPositiveCases           6027 non-null   int64  \n",
      " 13  Recovered                  6027 non-null   int64  \n",
      " 14  Deaths                     6027 non-null   int64  \n",
      " 15  TotalPositiveCases         6027 non-null   int64  \n",
      " 16  TestsPerformed             4872 non-null   float64\n",
      "dtypes: float64(3), int64(11), object(3)\n",
      "memory usage: 800.6+ KB\n"
     ]
    }
   ],
   "source": [
    "df_covid.info()"
   ]
  },
  {
   "cell_type": "code",
   "execution_count": 7,
   "id": "379c94a6",
   "metadata": {},
   "outputs": [
    {
     "data": {
      "text/plain": [
       "(6027, 17)"
      ]
     },
     "execution_count": 7,
     "metadata": {},
     "output_type": "execute_result"
    }
   ],
   "source": [
    "df_covid.shape"
   ]
  },
  {
   "cell_type": "code",
   "execution_count": 8,
   "id": "ea8dbc68",
   "metadata": {},
   "outputs": [
    {
     "data": {
      "text/plain": [
       "1729061"
      ]
     },
     "execution_count": 8,
     "metadata": {},
     "output_type": "execute_result"
    }
   ],
   "source": [
    "df_covid['NewPositiveCases'].sum()"
   ]
  },
  {
   "cell_type": "code",
   "execution_count": 9,
   "id": "85e7d6a8",
   "metadata": {},
   "outputs": [
    {
     "data": {
      "text/plain": [
       "37897157"
      ]
     },
     "execution_count": 9,
     "metadata": {},
     "output_type": "execute_result"
    }
   ],
   "source": [
    "df_covid['CurrentPositiveCases'].sum()"
   ]
  },
  {
   "cell_type": "code",
   "execution_count": 10,
   "id": "a4c862e0",
   "metadata": {},
   "outputs": [
    {
     "data": {
      "text/plain": [
       "False"
      ]
     },
     "execution_count": 10,
     "metadata": {},
     "output_type": "execute_result"
    }
   ],
   "source": [
    "df_covid['TotalPositiveCases'].sum() == (df_covid['NewPositiveCases'].sum() + df_covid['CurrentPositiveCases'].sum())"
   ]
  },
  {
   "cell_type": "code",
   "execution_count": 11,
   "id": "e773c1cf",
   "metadata": {},
   "outputs": [
    {
     "data": {
      "text/plain": [
       "103062445"
      ]
     },
     "execution_count": 11,
     "metadata": {},
     "output_type": "execute_result"
    }
   ],
   "source": [
    "df_covid['TotalPositiveCases'].sum()"
   ]
  },
  {
   "cell_type": "code",
   "execution_count": 12,
   "id": "f012bcc8",
   "metadata": {},
   "outputs": [
    {
     "data": {
      "text/plain": [
       "108"
      ]
     },
     "execution_count": 12,
     "metadata": {},
     "output_type": "execute_result"
    }
   ],
   "source": [
    "df_covid.at[5000, 'NewPositiveCases']"
   ]
  },
  {
   "cell_type": "code",
   "execution_count": 13,
   "id": "261fc5d0",
   "metadata": {},
   "outputs": [
    {
     "data": {
      "text/plain": [
       "'2020-10-19T17:00:00'"
      ]
     },
     "execution_count": 13,
     "metadata": {},
     "output_type": "execute_result"
    }
   ],
   "source": [
    "df_covid.at[5000, 'Date']"
   ]
  },
  {
   "cell_type": "code",
   "execution_count": 14,
   "id": "4d371c0c",
   "metadata": {},
   "outputs": [
    {
     "data": {
      "text/plain": [
       "SNo                                         5000\n",
       "Date                         2020-10-19T17:00:00\n",
       "Country                                      ITA\n",
       "RegionCode                                    18\n",
       "RegionName                              Calabria\n",
       "Latitude                               38.905976\n",
       "Longitude                              16.594402\n",
       "HospitalizedPatients                          66\n",
       "IntensiveCarePatients                          5\n",
       "TotalHospitalizedPatients                     71\n",
       "HomeConfinement                             1099\n",
       "CurrentPositiveCases                        1170\n",
       "NewPositiveCases                             108\n",
       "Recovered                                   1595\n",
       "Deaths                                       104\n",
       "TotalPositiveCases                          2869\n",
       "TestsPerformed                          238117.0\n",
       "Name: 5000, dtype: object"
      ]
     },
     "execution_count": 14,
     "metadata": {},
     "output_type": "execute_result"
    }
   ],
   "source": [
    "df_covid.loc[5000]"
   ]
  },
  {
   "cell_type": "markdown",
   "id": "2efa0584",
   "metadata": {},
   "source": [
    "This returns the number of new cases of covid at row 5000 on October 19th, 2020 is 108."
   ]
  },
  {
   "cell_type": "code",
   "execution_count": 15,
   "id": "5275beaf",
   "metadata": {},
   "outputs": [
    {
     "data": {
      "text/plain": [
       "0"
      ]
     },
     "execution_count": 15,
     "metadata": {},
     "output_type": "execute_result"
    }
   ],
   "source": [
    "df_covid['NewPositiveCases'].first_valid_index()"
   ]
  },
  {
   "cell_type": "markdown",
   "id": "69047aae",
   "metadata": {},
   "source": [
    "This checks the valid entry different from 'NaN'"
   ]
  },
  {
   "cell_type": "markdown",
   "id": "db56d9ba",
   "metadata": {},
   "source": [
    "### What is the total number of reported cases and reported death?"
   ]
  },
  {
   "cell_type": "code",
   "execution_count": 16,
   "id": "0e714e70",
   "metadata": {},
   "outputs": [
    {
     "name": "stdout",
     "output_type": "stream",
     "text": [
      "The total number of reported cases is 103062445\n"
     ]
    }
   ],
   "source": [
    "total_cases = df_covid.TotalPositiveCases.sum()\n",
    "print(f\"The total number of reported cases is {total_cases}\")"
   ]
  },
  {
   "cell_type": "code",
   "execution_count": 17,
   "id": "ebf4cdf8",
   "metadata": {},
   "outputs": [
    {
     "name": "stdout",
     "output_type": "stream",
     "text": [
      "The total number of death reported is 8886032\n"
     ]
    }
   ],
   "source": [
    "total_death = df_covid.Deaths.sum()\n",
    "print(f\"The total number of death reported is {total_death}\")"
   ]
  },
  {
   "cell_type": "markdown",
   "id": "3252db89",
   "metadata": {},
   "source": [
    "It can be argued that not all reported cases of Covid19 resulted to the death recorded; that is, Covid is not the only contributing factor to death."
   ]
  },
  {
   "cell_type": "code",
   "execution_count": 18,
   "id": "cd5236ae",
   "metadata": {},
   "outputs": [
    {
     "data": {
      "text/plain": [
       "94176413"
      ]
     },
     "execution_count": 18,
     "metadata": {},
     "output_type": "execute_result"
    }
   ],
   "source": [
    "total_cases - total_death"
   ]
  },
  {
   "cell_type": "markdown",
   "id": "d6ec3d03",
   "metadata": {},
   "source": [
    "### What is the death rate?"
   ]
  },
  {
   "cell_type": "code",
   "execution_count": 19,
   "id": "40dd7739",
   "metadata": {},
   "outputs": [
    {
     "name": "stdout",
     "output_type": "stream",
     "text": [
      "The ratio of death recorded to the number of cases is 0.08621988348908276\n"
     ]
    }
   ],
   "source": [
    "death_rate = total_death / total_cases\n",
    "print(f\"The ratio of death recorded to the number of cases is {death_rate}\")"
   ]
  },
  {
   "cell_type": "markdown",
   "id": "023c1d4d",
   "metadata": {},
   "source": [
    "### What is the positivity rate?"
   ]
  },
  {
   "cell_type": "code",
   "execution_count": 21,
   "id": "5edbb334",
   "metadata": {},
   "outputs": [
    {
     "data": {
      "text/plain": [
       "8.133631286870228"
      ]
     },
     "execution_count": 21,
     "metadata": {},
     "output_type": "execute_result"
    }
   ],
   "source": [
    "positive_rate = (total_cases / df_covid.TestsPerformed.sum()) * 100\n",
    "positive_rate"
   ]
  },
  {
   "cell_type": "markdown",
   "id": "729b7941",
   "metadata": {},
   "source": [
    "### Converting the date type to a datetime"
   ]
  },
  {
   "cell_type": "code",
   "execution_count": 22,
   "id": "a4bdc796",
   "metadata": {},
   "outputs": [],
   "source": [
    "df_covid['Date'] = pd.to_datetime(df_covid['Date'])"
   ]
  },
  {
   "cell_type": "code",
   "execution_count": 23,
   "id": "f371bd53",
   "metadata": {},
   "outputs": [
    {
     "data": {
      "text/plain": [
       "0      2020-02-24 18:00:00\n",
       "1      2020-02-24 18:00:00\n",
       "2      2020-02-24 18:00:00\n",
       "3      2020-02-24 18:00:00\n",
       "4      2020-02-24 18:00:00\n",
       "               ...        \n",
       "6022   2020-12-06 17:00:00\n",
       "6023   2020-12-06 17:00:00\n",
       "6024   2020-12-06 17:00:00\n",
       "6025   2020-12-06 17:00:00\n",
       "6026   2020-12-06 17:00:00\n",
       "Name: Date, Length: 6027, dtype: datetime64[ns]"
      ]
     },
     "execution_count": 23,
     "metadata": {},
     "output_type": "execute_result"
    }
   ],
   "source": [
    "df_covid.Date"
   ]
  },
  {
   "cell_type": "code",
   "execution_count": 24,
   "id": "4a843177",
   "metadata": {},
   "outputs": [],
   "source": [
    "df_covid['year'] = pd.DatetimeIndex(df_covid.Date).year\n",
    "df_covid['month'] = pd.DatetimeIndex(df_covid.Date).month\n",
    "df_covid['day'] = pd.DatetimeIndex(df_covid.Date).day\n",
    "df_covid['weekday'] = pd.DatetimeIndex(df_covid.Date).weekday"
   ]
  },
  {
   "cell_type": "code",
   "execution_count": 29,
   "id": "6931b772",
   "metadata": {},
   "outputs": [
    {
     "data": {
      "text/html": [
       "<div>\n",
       "<style scoped>\n",
       "    .dataframe tbody tr th:only-of-type {\n",
       "        vertical-align: middle;\n",
       "    }\n",
       "\n",
       "    .dataframe tbody tr th {\n",
       "        vertical-align: top;\n",
       "    }\n",
       "\n",
       "    .dataframe thead th {\n",
       "        text-align: right;\n",
       "    }\n",
       "</style>\n",
       "<table border=\"1\" class=\"dataframe\">\n",
       "  <thead>\n",
       "    <tr style=\"text-align: right;\">\n",
       "      <th></th>\n",
       "      <th>NewPositiveCases</th>\n",
       "      <th>TestsPerformed</th>\n",
       "      <th>Deaths</th>\n",
       "    </tr>\n",
       "    <tr>\n",
       "      <th>month</th>\n",
       "      <th></th>\n",
       "      <th></th>\n",
       "      <th></th>\n",
       "    </tr>\n",
       "  </thead>\n",
       "  <tbody>\n",
       "    <tr>\n",
       "      <th>2</th>\n",
       "      <td>1120</td>\n",
       "      <td>0.0</td>\n",
       "      <td>96</td>\n",
       "    </tr>\n",
       "    <tr>\n",
       "      <th>3</th>\n",
       "      <td>104664</td>\n",
       "      <td>0.0</td>\n",
       "      <td>116566</td>\n",
       "    </tr>\n",
       "    <tr>\n",
       "      <th>4</th>\n",
       "      <td>99671</td>\n",
       "      <td>13643342.0</td>\n",
       "      <td>644171</td>\n",
       "    </tr>\n",
       "    <tr>\n",
       "      <th>5</th>\n",
       "      <td>27556</td>\n",
       "      <td>58918148.0</td>\n",
       "      <td>973585</td>\n",
       "    </tr>\n",
       "    <tr>\n",
       "      <th>6</th>\n",
       "      <td>7584</td>\n",
       "      <td>86135311.0</td>\n",
       "      <td>1028841</td>\n",
       "    </tr>\n",
       "    <tr>\n",
       "      <th>7</th>\n",
       "      <td>7006</td>\n",
       "      <td>113693227.0</td>\n",
       "      <td>1084927</td>\n",
       "    </tr>\n",
       "    <tr>\n",
       "      <th>8</th>\n",
       "      <td>21702</td>\n",
       "      <td>140356556.0</td>\n",
       "      <td>1095146</td>\n",
       "    </tr>\n",
       "    <tr>\n",
       "      <th>9</th>\n",
       "      <td>45623</td>\n",
       "      <td>181469958.0</td>\n",
       "      <td>1069879</td>\n",
       "    </tr>\n",
       "    <tr>\n",
       "      <th>10</th>\n",
       "      <td>364607</td>\n",
       "      <td>250655965.0</td>\n",
       "      <td>1137835</td>\n",
       "    </tr>\n",
       "    <tr>\n",
       "      <th>11</th>\n",
       "      <td>922206</td>\n",
       "      <td>342444409.0</td>\n",
       "      <td>1385098</td>\n",
       "    </tr>\n",
       "    <tr>\n",
       "      <th>12</th>\n",
       "      <td>127322</td>\n",
       "      <td>79797874.0</td>\n",
       "      <td>349888</td>\n",
       "    </tr>\n",
       "  </tbody>\n",
       "</table>\n",
       "</div>"
      ],
      "text/plain": [
       "       NewPositiveCases  TestsPerformed   Deaths\n",
       "month                                           \n",
       "2                  1120             0.0       96\n",
       "3                104664             0.0   116566\n",
       "4                 99671      13643342.0   644171\n",
       "5                 27556      58918148.0   973585\n",
       "6                  7584      86135311.0  1028841\n",
       "7                  7006     113693227.0  1084927\n",
       "8                 21702     140356556.0  1095146\n",
       "9                 45623     181469958.0  1069879\n",
       "10               364607     250655965.0  1137835\n",
       "11               922206     342444409.0  1385098\n",
       "12               127322      79797874.0   349888"
      ]
     },
     "execution_count": 29,
     "metadata": {},
     "output_type": "execute_result"
    }
   ],
   "source": [
    "df_month = df_covid.groupby('month')[['NewPositiveCases', 'TestsPerformed', 'Deaths']].sum()\n",
    "df_month"
   ]
  },
  {
   "cell_type": "markdown",
   "id": "502d2a6c",
   "metadata": {},
   "source": [
    "### Death Cases in December"
   ]
  },
  {
   "cell_type": "code",
   "execution_count": 40,
   "id": "5033e164",
   "metadata": {},
   "outputs": [
    {
     "data": {
      "text/plain": [
       "NewPositiveCases      127322.0\n",
       "TestsPerformed      79797874.0\n",
       "Deaths                349888.0\n",
       "Name: 12, dtype: float64"
      ]
     },
     "execution_count": 40,
     "metadata": {},
     "output_type": "execute_result"
    }
   ],
   "source": [
    "df_month.loc[12]"
   ]
  },
  {
   "cell_type": "markdown",
   "id": "907edec5",
   "metadata": {},
   "source": [
    "### calculating the number of Tests per day"
   ]
  },
  {
   "cell_type": "code",
   "execution_count": 67,
   "id": "7254cf6f",
   "metadata": {},
   "outputs": [
    {
     "name": "stdout",
     "output_type": "stream",
     "text": [
      "5901     906\n",
      "5902     153\n",
      "5903     301\n",
      "5904    1721\n",
      "5905    5805\n",
      "        ... \n",
      "6022    1759\n",
      "6023    2867\n",
      "6024     460\n",
      "6025     333\n",
      "6026    4210\n",
      "Name: Deaths, Length: 126, dtype: int64\n"
     ]
    }
   ],
   "source": []
  },
  {
   "cell_type": "markdown",
   "id": "e557da75",
   "metadata": {},
   "source": [
    "### Visualization Of Data"
   ]
  },
  {
   "cell_type": "code",
   "execution_count": null,
   "id": "adb5c165",
   "metadata": {},
   "outputs": [],
   "source": []
  }
 ],
 "metadata": {
  "kernelspec": {
   "display_name": "Python 3 (ipykernel)",
   "language": "python",
   "name": "python3"
  },
  "language_info": {
   "codemirror_mode": {
    "name": "ipython",
    "version": 3
   },
   "file_extension": ".py",
   "mimetype": "text/x-python",
   "name": "python",
   "nbconvert_exporter": "python",
   "pygments_lexer": "ipython3",
   "version": "3.8.8"
  }
 },
 "nbformat": 4,
 "nbformat_minor": 5
}
